{
 "cells": [
  {
   "cell_type": "code",
   "execution_count": null,
   "metadata": {},
   "outputs": [],
   "source": [
    "import gurobipy as gp\n",
    "import pandas as pd\n",
    "import matplotlib.pyplot as plt\n",
    "import math"
   ]
  },
  {
   "cell_type": "code",
   "execution_count": null,
   "metadata": {},
   "outputs": [],
   "source": [
    "fileserver = \"https://openei.org/datasets/files/961/pub/\"\n",
    "marietta = \"RESIDENTIAL_LOAD_DATA_E_PLUS_OUTPUT/BASE/USA_GA_Marietta-Dobbins.AFB.722270_TMY3_BASE.csv\"\n",
    "\n",
    "load_profile = pd.read_csv(fileserver + marietta)"
   ]
  },
  {
   "cell_type": "code",
   "execution_count": null,
   "metadata": {},
   "outputs": [],
   "source": [
    "# we make a copy and sum the load assuming we have gas Water Heater and HVAC \n",
    "load_minus_gas = load_profile.copy()"
   ]
  },
  {
   "cell_type": "code",
   "execution_count": null,
   "metadata": {},
   "outputs": [],
   "source": [
    "dropped_rows = []\n",
    "for value in load_profile.columns:\n",
    "    if \"GAS\" in value.upper():\n",
    "        dropped_rows.append(value)\n",
    "    if \"HEAT\" in value.upper():\n",
    "        dropped_rows.append(value)\n",
    "electric_load = load_minus_gas.drop(dropped_rows,axis=1)"
   ]
  },
  {
   "cell_type": "code",
   "execution_count": null,
   "metadata": {},
   "outputs": [],
   "source": [
    "electric_load[\"Total Building Load [kW](Hourly)\"] = electric_load.sum(axis=1, numeric_only=True)\n",
    "electric_load.head()"
   ]
  },
  {
   "cell_type": "code",
   "execution_count": null,
   "metadata": {},
   "outputs": [],
   "source": [
    "%matplotlib notebook\n",
    "# select a week between 1 and 52\n",
    "weeknum = 32\n",
    "simulated_week = electric_load['Total Building Load [kW](Hourly)'][(weeknum-1)*168: ((weeknum)*168)].copy(deep=True)\n",
    "simulated_week = simulated_week.reset_index().drop('index',axis=1)\n",
    "simulated_week.plot()"
   ]
  },
  {
   "cell_type": "code",
   "execution_count": null,
   "metadata": {},
   "outputs": [],
   "source": [
    "# assumes that build america data starts on a sunday...\n",
    "day = {1: \"Sunday\", 2:\"Monday\", 3:\"Tuesday\", 4:\"Wednesday\", 5:\"Thursday\", 6:\"Friday\", 7:\"Saturday\"}\n",
    "simulated_week[\"Day\"] = simulated_week.index\n",
    "simulated_week[\"Day\"] = simulated_week[\"Day\"].apply(lambda x: day[math.ceil((x+1)/24)],)\n",
    "simulated_week[\"Hour\"] = simulated_week.index\n",
    "simulated_week[\"Hour\"] = simulated_week[\"Hour\"].apply(lambda x: (x%24))\n",
    "for key in day.keys():\n",
    "    simulated_week[simulated_week[\"Day\"]==day[key]].plot(x=\"Hour\", y=\"Total Building Load [kW](Hourly)\", kind=\"scatter\")\n"
   ]
  },
  {
   "cell_type": "code",
   "execution_count": null,
   "metadata": {},
   "outputs": [],
   "source": [
    "summer_load.describe()"
   ]
  },
  {
   "cell_type": "code",
   "execution_count": null,
   "metadata": {},
   "outputs": [],
   "source": [
    "winter_load = electric_load['Total Building Load [kW](Hourly)'].copy(deep=True)\n",
    "winter_load = winter_load.drop(range(3500,7000,1), axis=0)\n",
    "winter_load.plot()"
   ]
  },
  {
   "cell_type": "code",
   "execution_count": null,
   "metadata": {},
   "outputs": [],
   "source": [
    "winter_load.describe()"
   ]
  },
  {
   "cell_type": "code",
   "execution_count": null,
   "metadata": {},
   "outputs": [],
   "source": [
    "math.ceil(3/7)"
   ]
  },
  {
   "cell_type": "code",
   "execution_count": null,
   "metadata": {},
   "outputs": [],
   "source": [
    "math.ceil(8/7)"
   ]
  },
  {
   "cell_type": "code",
   "execution_count": null,
   "metadata": {},
   "outputs": [],
   "source": []
  }
 ],
 "metadata": {
  "kernelspec": {
   "display_name": "Python 3",
   "language": "python",
   "name": "python3"
  },
  "language_info": {
   "codemirror_mode": {
    "name": "ipython",
    "version": 3
   },
   "file_extension": ".py",
   "mimetype": "text/x-python",
   "name": "python",
   "nbconvert_exporter": "python",
   "pygments_lexer": "ipython3",
   "version": "3.7.1"
  }
 },
 "nbformat": 4,
 "nbformat_minor": 2
}
